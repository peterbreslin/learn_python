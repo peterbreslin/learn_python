{
 "cells": [
  {
   "cell_type": "markdown",
   "id": "d93cc2b5",
   "metadata": {},
   "source": [
    "# <font size='6'>Introduction to Computer Programming"
   ]
  },
  {
   "cell_type": "markdown",
   "id": "9f9d6c36",
   "metadata": {},
   "source": [
    "### <ins><font color='blue' size='4'>What is computer programming?</font></ins>\n",
    "\n",
    "<font size='3'>Many day-to-day tasks can be simplified by using a **computer program**. This is nothing more than a <font color='red'>**set of instructions**</font> that you give and tell the computer to do. The computer you're using to read this webpage right now had to be given a set of instructions on how to operate!\n",
    "\n",
    "<font size='3'>Computer <font color='red'>**programming**</font> is the process of writing these instructions and telling the computer how to read and execute them.\n",
    "\n",
    "<img src=\"https://raw.githubusercontent.com/peterbreslin/learn_python/main/images/programmer.jpeg\" style=\"width: 500px;\" align=\"left\" />"
   ]
  },
  {
   "cell_type": "markdown",
   "id": "025dca27",
   "metadata": {},
   "source": [
    "### <ins><font color='blue' size='4'>Why should we learn to program?</font></ins>\n",
    "\n",
    "<font size='3'>Programming is a skill with many, many applications. It is a powerful tool that one can use to **solve problems** in a more efficient and practical way. With programming, you learn how to leverage the power of computers to:\n",
    "\n",
    "- <font size='3'>explore **creative** ideas\n",
    "\n",
    "\n",
    "- <font size='3'>develop your **reasoning** and **logic** skills\n",
    "\n",
    "\n",
    "- <font size='3'>**solve** complex problems\n",
    "\n",
    "\n",
    "- <font size='3'>make your life **easier** by automating tasks that would otherwise be tedious and boring!\n",
    "\n",
    "\n",
    "- <font size='3'>and much, much more $\\longrightarrow$ the possibilities are only limited by your **imagination**! \n",
    "\n",
    "<img src=\"https://raw.githubusercontent.com/peterbreslin/learn_python/main/images/skills.png\" style=\"width: 400px;\" align=\"left\"/>"
   ]
  },
  {
   "cell_type": "markdown",
   "id": "6061078c",
   "metadata": {},
   "source": [
    "### <ins><font color='blue' size='4'>Programming Languages</font></ins>\n",
    "\n",
    "<font size='3'> How do we *communicate* with a computer? What *language* does a computer speak? There are many languages a computer can understand and it is up to us to choose what language we'd like to use. \n",
    "    \n",
    "<font size='3'> We will learn the fastest growing programming language in the world today: <font color='green' size='3'>**Python**</font>.\n",
    "\n",
    "<img src=\"https://raw.githubusercontent.com/peterbreslin/learn_python/main/images/python_logo.png\" style=\"width: 500px;\" align=\"left\"/>"
   ]
  },
  {
   "cell_type": "markdown",
   "id": "7ddce183",
   "metadata": {},
   "source": [
    "### <ins><font color='blue' size='4'>Why are we choosing to learn Python?</font></ins>\n",
    "\n",
    "- <font size='3'> It is a beginner friendly language $\\longrightarrow$ <font color='red' size='3'>**simplicity**</font>\n",
    "\n",
    "\n",
    "- <font size='3'> It is used in many different industries $\\longrightarrow$ <font color='red' size='3'>**high demand**</font>\n",
    "\n",
    "\n",
    "- <font size='3'> It can be used to make many different programs $\\longrightarrow$ <font color='red' size='3'>**versatility**</font>\n",
    "\n",
    "\n",
    "### <ins><font color='blue' size='4'>Writing a program:</font></ins>\n",
    "\n",
    "<font size='3'> The set of instructions we give to a computer is known as a **script**. Just like how an actor is given a script describing what to do, a computer program is given a script outlining a list of commands to execute. The commands written in a script are referred to as the <font color='red' size='3'>**code**</font>.\n",
    "\n",
    "<font size='3'> Scripts have to be written in a programming language so that the computer understands it. Since we will use the Python programming language, our scripts will be written in Python! But, a question remains $\\longrightarrow$ **how and where do we write a script?**\n",
    "    \n",
    "<img src=\"https://raw.githubusercontent.com/peterbreslin/learn_python/main/images/computer_script.png\" style=\"width: 400px;\" align=\"left\"/>"
   ]
  },
  {
   "cell_type": "markdown",
   "id": "f9e530ca",
   "metadata": {},
   "source": [
    "### <ins><font color='blue' size='4'>IDEs:</font></ins>\n",
    "\n",
    "<font size='3'> Programmers use different computer programs to write their scripts in. These are known as *integrated development environments*, or IDEs for short. The take-away here is that we use a computer program called an <font color='red' size='3'>**IDE**</font> <font size='3'>to write our scripts with. We use IDEs because they allow us to **write**, **edit**, and **execute** scripts all in the same place!\n",
    "\n",
    "<font size='3'> We are using a <font color='red' size='3'>**Jupyter Notebook**</font> <font size='3'>right now. This is a special type of IDE that allows us to write Python in a very **interactive** way. In Jupyter, we can add text and images along with our code to create a user-friendly script that is easier to understand. Furthermore, it allows us to split our script up into blocks so that we can easily execute spacific parts of our script without having to compile everything else!\n",
    "\n",
    "<font size='3'> These are some reasons why Jupyter Notebooks can be a **great learning environment** for Python.\n",
    "\n",
    "<img src=\"https://raw.githubusercontent.com/peterbreslin/learn_python/main/images/jupyter.png\" style=\"width: 300px;\" align=\"left\"/>"
   ]
  },
  {
   "cell_type": "markdown",
   "id": "f422f900",
   "metadata": {},
   "source": [
    "# <font color='blue'>Begin already!!!</font>\n",
    "\n",
    "Let's begin by diving straight into some of Python's basic commands. In this lesson, we'll learn about some of the most fundamental procedures in Python:\n",
    "\n",
    "1. Print statements\n",
    "2. Mathematical operations\n",
    "3. Data structures\n",
    "\n",
    "## <font color='purple'>1. <ins>Printing:</ins></font>\n",
    "\n",
    "Firstly, let us define some important terms:\n",
    "\n",
    "- <font color='red'>**Variable**</font> $\\longrightarrow$ a variable is the name given to a value that can change. If our code reads <code>x=5</code>, our variable here is **x**.\n",
    "\n",
    "\n",
    "- <font color='red'>**Output**</font> $\\longrightarrow$ when a script is executed, the **output** is the result the computer arrives to after doing the commands given in the script.\n",
    "\n",
    "\n",
    "- <font color='red'>**Functions**</font> $\\longrightarrow$ a function is a chunk of a script that does a specific task.\n",
    "\n",
    "\n",
    "- <font color='red'>**Built-in functions**</font> $\\longrightarrow$ these are functions that are already programmed into Python and don't require us to write them from scratch!\n",
    "\n",
    "\n",
    "One of the most essential functions in computer programming is the <font color='red'>**Print Statement**</font>. This is a built-in function that outputs **text**. The code for this statement is written as <code>print()</code>, where whatever you want to be printed is written inside the parentheses. \n",
    "\n",
    "If we want to print a word, we put punctuation marks around it $\\longrightarrow$ it does not matter which punctuation type we use (<code>\"\"word\"\"</code> or <code>'word'</code>). Let us try an example: click on the block (*or cell*) below and press the run button towards the top of page (alternatively, press ctrl+enter)"
   ]
  },
  {
   "cell_type": "code",
   "execution_count": 1,
   "id": "a8ee49af",
   "metadata": {},
   "outputs": [
    {
     "name": "stdout",
     "output_type": "stream",
     "text": [
      "Hello world\n",
      "Hello world\n"
     ]
    }
   ],
   "source": [
    "print('Hello world')\n",
    "print(\"Hello world\")"
   ]
  },
  {
   "cell_type": "markdown",
   "id": "f21084eb",
   "metadata": {},
   "source": [
    "Great! We just wrote a script to tell our computer to type the statement 'Hello world'. The computer understood the script by doing two things:\n",
    "\n",
    "- It <font color='red'>**compiled**</font> the script $\\longrightarrow$ this means that it translated the script into a computer language it can understand more easily.\n",
    "\n",
    "\n",
    "- It <font color='red'>**executed**</font> the script $\\longrightarrow$ this means it did what the script told it to do and showed any results in the output.\n",
    "\n",
    "Try creating your own print statement in the cell below:"
   ]
  },
  {
   "cell_type": "code",
   "execution_count": 2,
   "id": "a94390c6",
   "metadata": {},
   "outputs": [],
   "source": [
    "# For example, type something like: print('I am using the print statement')\n"
   ]
  },
  {
   "cell_type": "markdown",
   "id": "c30814eb",
   "metadata": {},
   "source": [
    "We can also print multiple statements by separating them by a comma. Try executing the example below:"
   ]
  },
  {
   "cell_type": "code",
   "execution_count": 3,
   "id": "7ca653be",
   "metadata": {},
   "outputs": [
    {
     "name": "stdout",
     "output_type": "stream",
     "text": [
      "I am printing three statements together!\n"
     ]
    }
   ],
   "source": [
    "print('I am', 'printing three', 'statements together!')"
   ]
  },
  {
   "cell_type": "markdown",
   "id": "a30439e5",
   "metadata": {},
   "source": [
    "Super! Now let's try printing something that **is not** a word. Try executing the cell below."
   ]
  },
  {
   "cell_type": "code",
   "execution_count": 4,
   "id": "e468f139",
   "metadata": {},
   "outputs": [
    {
     "ename": "NameError",
     "evalue": "name 'x' is not defined",
     "output_type": "error",
     "traceback": [
      "\u001b[1;31m---------------------------------------------------------------------------\u001b[0m",
      "\u001b[1;31mNameError\u001b[0m                                 Traceback (most recent call last)",
      "\u001b[1;32m<ipython-input-4-fc17d851ef81>\u001b[0m in \u001b[0;36m<module>\u001b[1;34m\u001b[0m\n\u001b[1;32m----> 1\u001b[1;33m \u001b[0mprint\u001b[0m\u001b[1;33m(\u001b[0m\u001b[0mx\u001b[0m\u001b[1;33m)\u001b[0m\u001b[1;33m\u001b[0m\u001b[1;33m\u001b[0m\u001b[0m\n\u001b[0m",
      "\u001b[1;31mNameError\u001b[0m: name 'x' is not defined"
     ]
    }
   ],
   "source": [
    "print(x)"
   ]
  },
  {
   "cell_type": "markdown",
   "id": "b86e7478",
   "metadata": {},
   "source": [
    "Argh! Our script confused Python and caused it to output an <font color='red'>**error**</font>. Let's bread down what happened:\n",
    "\n",
    " - We asked Python to print **x**. \n",
    " \n",
    " \n",
    " - We did not wrap punctuation marks around **x** $\\longrightarrow$ this indicated to Python that **x** is not a word. \n",
    " \n",
    " \n",
    " - But, what is **x**? $\\longrightarrow$ Python got confused because we never told it what **x** is!\n",
    " \n",
    " \n",
    "To solve this problem, we have to <font color='red'>**define**</font> what **x** is. We can do this using the <code>=</code> sign. Let us define **x** as a word and attempt to print it once again. Try this by executing the cell below:"
   ]
  },
  {
   "cell_type": "code",
   "execution_count": 5,
   "id": "ae35a53f",
   "metadata": {},
   "outputs": [
    {
     "name": "stdout",
     "output_type": "stream",
     "text": [
      "Hello world\n"
     ]
    }
   ],
   "source": [
    "x = 'Hello world'\n",
    "print(x)"
   ]
  },
  {
   "cell_type": "markdown",
   "id": "4446ce6b",
   "metadata": {},
   "source": [
    "Fantastic! But, why did it work this time? \n",
    "\n",
    "- We defined **x** $\\longrightarrow$ this allowed Python to understand what it is. \n",
    "\n",
    "We could also try printing something that is not text $\\longrightarrow$ such as a number! This is achieved by **not** wrapping punctuation marks around what we want to be printed. Try execting the cell below:"
   ]
  },
  {
   "cell_type": "code",
   "execution_count": 6,
   "id": "216f9e25",
   "metadata": {},
   "outputs": [
    {
     "name": "stdout",
     "output_type": "stream",
     "text": [
      "101\n"
     ]
    }
   ],
   "source": [
    "print(101)"
   ]
  },
  {
   "cell_type": "markdown",
   "id": "89fa553a",
   "metadata": {},
   "source": [
    "### Great! Time for a task to put what we've learned to practice. In the cell below, you will write a script based on the following instructions:\n",
    "\n",
    "- Define a variable **x** $\\longrightarrow$ let **x** be equal to the sentence: <code>My age is</code> \n",
    "\n",
    "\n",
    "- Now define a new variable **y** $\\longrightarrow$ let **y** be equal to your age (write this as a number, not a word)\n",
    "\n",
    "\n",
    "- Print **x** and **y** together in the same print statement!"
   ]
  },
  {
   "cell_type": "code",
   "execution_count": 7,
   "id": "febc2b8a",
   "metadata": {},
   "outputs": [],
   "source": [
    "# Write your script below this line\n"
   ]
  },
  {
   "cell_type": "markdown",
   "id": "f96a9248",
   "metadata": {},
   "source": [
    "Did you figure it out? Your script should have been something like the following:\n",
    "\n",
    "<code>x = 'My age is'</code> <br>\n",
    "<code>y = 23</code> <br>\n",
    "<code>print(x, y)</code>"
   ]
  },
  {
   "cell_type": "markdown",
   "id": "47068d86",
   "metadata": {},
   "source": [
    "## <font color='purple'>2. <ins>Mathematical operations:</ins></font> \n",
    "Did you know that your computer is a big calculator? Using Python, we can easily tell our computer to make calculations for us! In Python, we tell the computer how to interpret mathematical operations like adding and substracting by using special symbols. Let's look at some of the most important:\n",
    "\n",
    "- Addition: <code>+</code>\n",
    "\n",
    "\n",
    "- Subtraction: <code>-</code>\n",
    "\n",
    "\n",
    "- Multiplication: <code>*</code>\n",
    "\n",
    "\n",
    "- Divison: <code>/</code>\n",
    "\n",
    "\n",
    "- Powers: <code>**</code>\n",
    "\n",
    "Let's better understand this by executing the cell below:"
   ]
  },
  {
   "cell_type": "code",
   "execution_count": 8,
   "id": "6f905015",
   "metadata": {},
   "outputs": [
    {
     "name": "stdout",
     "output_type": "stream",
     "text": [
      "12\n",
      "8\n",
      "20\n",
      "5.0\n",
      "100\n"
     ]
    }
   ],
   "source": [
    "# When I put the hashtag symbol infront of something in Python, the computer will ignore it when executing the code. \n",
    "# This is known as 'commenting'. It is a helpful tool for documenting your code.\n",
    "\n",
    "# Addition\n",
    "print(10 + 2)\n",
    "\n",
    "# Subtraction\n",
    "print(10 - 2)\n",
    "\n",
    "# Multiplication\n",
    "print(10 * 2)\n",
    "\n",
    "# Division\n",
    "print(10 / 2)\n",
    "\n",
    "# Powers\n",
    "print(10 ** 2)"
   ]
  },
  {
   "cell_type": "markdown",
   "id": "407b93fe",
   "metadata": {},
   "source": [
    "Great! Try the following task:\n",
    "\n",
    "1. Define a variable **w** $\\longrightarrow$ let this equal to 15.\n",
    "\n",
    "\n",
    "2. Define a variable **x** $\\longrightarrow$ let this be equal to 5.\n",
    "\n",
    "\n",
    "3. Define a variable **y** $\\longrightarrow$ let this be equal to **w** multiplied by **x**.\n",
    "\n",
    "\n",
    "4. Define a variable **z** $\\longrightarrow$ let this be equal to **w** dividied by **x**.\n",
    "\n",
    "\n",
    "5. Now calculate what **y** to the power of **z** is!"
   ]
  },
  {
   "cell_type": "code",
   "execution_count": 9,
   "id": "0464b6ec",
   "metadata": {},
   "outputs": [],
   "source": [
    "# Write your code below this line\n"
   ]
  },
  {
   "cell_type": "markdown",
   "id": "c6a0e504",
   "metadata": {},
   "source": [
    "Did you get an answer of <code>421875</code>? Your code should have looked something like this:\n",
    "\n",
    "<code>w = 15</code> <br>\n",
    "<code>x = 5</code> <br>\n",
    "<code>y = w * 5</code> <br>\n",
    "<code>z = w / 5</code> <br>\n",
    "<code>print(y ** z)</code> <br>\n",
    "\n",
    "Okay, now you can see how we can use computer programming to make calculations quickly and easily! We've only scratched the surface of mathematical operations in Python but, for now, let's leave it there and move onto the next lesson!"
   ]
  },
  {
   "cell_type": "markdown",
   "id": "f164ad0c",
   "metadata": {},
   "source": [
    "## <font color='purple'>3. <ins>Data structures:</ins></font> \n",
    "Data structures allow us to **organize** and **store** data in computers. While there are many different data structures in Python, <font color='red'>**lists**</font> are one of the most fundamental types. In this lesson, we will focus on lists as their properties can be applied to many other important concepts in Python.\n",
    "\n",
    "<img src=\"https://raw.githubusercontent.com/peterbreslin/learn_python/main/images/animals.png?token=GHSAT0AAAAAABQWDEEVBGDOWZMXEG6QZWN4YROMQZA\" style=\"width: 300px;margin-right: 60px\" align=\"left\"/>\n",
    "\n",
    "### <font color='blue'><ins>Lists:</ins></font>\n",
    "- Let's say we have a group of 5 animals. \n",
    "\n",
    "\n",
    "- We are given the task of keeping a digital record of their species. \n",
    "\n",
    "\n",
    "- How should we store this information on our computer? \n",
    "\n",
    "\n",
    "- We could assign a variable to each animal. \n",
    "\n",
    "\n",
    "- Our script would then look something like the cell below:"
   ]
  },
  {
   "cell_type": "code",
   "execution_count": 10,
   "id": "631e4bdb",
   "metadata": {},
   "outputs": [
    {
     "name": "stdout",
     "output_type": "stream",
     "text": [
      "lion monkey giraffe elephant crocodile\n"
     ]
    }
   ],
   "source": [
    "a = 'lion'\n",
    "b = 'monkey'\n",
    "c = 'giraffe'\n",
    "d = 'elephant'\n",
    "e = 'crocodile'\n",
    "\n",
    "print(a, b, c, d, e)"
   ]
  },
  {
   "cell_type": "markdown",
   "id": "02729c39",
   "metadata": {},
   "source": [
    "What if we wanted to store each animal together, as a single variable? We can do this by creating a <font color='red'>**list**</font>: \n",
    "\n",
    "- A list is a data structure that stores a collection of ordered items\n",
    "\n",
    "\n",
    "- Each data item in a list is separated by a comma (<code> , </code>)\n",
    "\n",
    "\n",
    "- Square brackets (<code>[ ]</code>) are used to make lists. \n",
    "\n",
    "\n",
    "Let us examine the example below:"
   ]
  },
  {
   "cell_type": "code",
   "execution_count": 11,
   "id": "3cc04152",
   "metadata": {},
   "outputs": [
    {
     "name": "stdout",
     "output_type": "stream",
     "text": [
      "['lion', 'monkey', 'giraffe', 'elephant', 'crocodile']\n"
     ]
    }
   ],
   "source": [
    "my_list = ['lion', 'monkey', 'giraffe', 'elephant', 'crocodile']\n",
    "\n",
    "print(my_list)"
   ]
  },
  {
   "cell_type": "markdown",
   "id": "d029e9ca",
   "metadata": {},
   "source": [
    "In the example above, we created a list by using the square brackets. We then placed our animal names in the list, making sure to seperate each item by a comma. We then printed the entire list. \n",
    "\n",
    "**Note:** the order of animals in the list corresponds to the order you used when you first defined the list. \n",
    "\n",
    "### <ins>Here are some important attributes about lists:</ins>\n",
    "\n",
    "- each item in a list is known as an <font color='red'>**element**</font>\n",
    "\n",
    "\n",
    "- each element is assigned an <font color='red'>**index**</font> $\\longrightarrow$ this is a number that defines the position an element has in a list\n",
    "\n",
    "\n",
    "- in Python, the list index begins at **0** $\\longrightarrow$ <code> the first element in a list is found at index = 0 </code>\n",
    "\n",
    "\n",
    "- an index is specified using the square brackets $\\longrightarrow$ <code> the first element in my_list is found at my_list[0] </code>\n",
    "\n",
    "What if we didn't want to print the entire list? What if we only wanted to print certain elements? This can be achieved by selecting the index that corresponds to the element you want to print. Let's look at an example:"
   ]
  },
  {
   "cell_type": "code",
   "execution_count": 12,
   "id": "26f5a6c1",
   "metadata": {},
   "outputs": [
    {
     "name": "stdout",
     "output_type": "stream",
     "text": [
      "The element at the first index is: lion\n",
      "The element at the second index is: monkey\n"
     ]
    }
   ],
   "source": [
    "first_element = my_list[0]\n",
    "\n",
    "second_element = my_list[1]\n",
    "\n",
    "print('The element at the first index is:', first_element)\n",
    "print('The element at the second index is:', second_element)"
   ]
  },
  {
   "cell_type": "markdown",
   "id": "38b629fe",
   "metadata": {},
   "source": [
    "### <font color='blue'>**Pop quiz!**</font>\n",
    "#### What is the number of the final index in the list of animals we created above?\n",
    "\n",
    ".\n",
    "\n",
    ".\n",
    "\n",
    ".\n",
    "\n",
    ".\n",
    "\n",
    ".\n",
    "\n",
    ".\n",
    "\n",
    "\n",
    "Did you guess 4? $\\longrightarrow$ if yes, then well done! \n",
    "\n",
    "Did you guess 5? $\\longrightarrow$ if yes, then you need to have a closer look back at how the index of a list is defined! \n",
    "\n",
    "<br>\n",
    "\n",
    "<font color='red'><ins>**Explanation**</ins></font>\n",
    "\n",
    "- Our list contains **5 types** of animals\n",
    "\n",
    "\n",
    "- The location of the **first** animal (*or element*) in our list corresponds to the **first** index of the list\n",
    "\n",
    "\n",
    "- List indices **begin at zero**\n",
    "\n",
    "\n",
    "- Therefore, the first element corresponds to an index of **0**. The second element corresponds to an index of **1**. The third corresponds to an index of **2**, the fourth to an index of **3**, and the fifth to an index of **4**.\n",
    "\n",
    "\n",
    "- Although there are 5 elements in the list, the final index is 4 because list indices begin at zero in Python!\n",
    "\n",
    "<br>\n",
    "\n",
    "### <font color='blue'><ins>List operations:</ins></font>\n",
    "\n",
    "What if we wanted to select the items between the first and third elements in the list? This is known as taking a <font color='red'>**slice**</font> of the list. We can do this by using the colon symbol <code> : </code> . Let's look at the example below:"
   ]
  },
  {
   "cell_type": "code",
   "execution_count": 13,
   "id": "cbec638a",
   "metadata": {},
   "outputs": [
    {
     "name": "stdout",
     "output_type": "stream",
     "text": [
      "['lion', 'monkey']\n"
     ]
    }
   ],
   "source": [
    "my_slice = my_list[0:2]\n",
    "\n",
    "print(my_slice)"
   ]
  },
  {
   "cell_type": "markdown",
   "id": "7f8b1bfc",
   "metadata": {},
   "source": [
    "Above, we specified that we wanted to select every item between the first element <code>(index = 0)</code> and third element <code>(index = 2)</code>. Notice how the colon symbol is used to tell Python that we want to include every item between the specified indices.\n",
    "\n",
    "Also, note how Python **does not** include the element of the final index that is specified. Python printed the first <code>(index = 0)</code> and the second <code>(index = 1)</code> element. It **did not** print the third element <code>(index = 2)</code>. This is because Python interprets this operation as: \n",
    ">\"select the items in the list from the first element **up-to (but not including)** the third element\"\n",
    "\n",
    "We can also tell Python to select specific indices at once. This can be achieved by separating the indices by a **double colon** <code>( :: )</code> . For example, let us select and print the first <code>(index = 0)</code> and last <code>(index = 4)</code> element:"
   ]
  },
  {
   "cell_type": "code",
   "execution_count": 14,
   "id": "b99768c6",
   "metadata": {},
   "outputs": [
    {
     "name": "stdout",
     "output_type": "stream",
     "text": [
      "['lion', 'crocodile']\n"
     ]
    }
   ],
   "source": [
    "first_and_last_element = my_list[0::4]\n",
    "\n",
    "print(first_and_last_element)"
   ]
  },
  {
   "cell_type": "markdown",
   "id": "083fbd8e",
   "metadata": {},
   "source": [
    "#### What if we wanted to print the last element in a list but we didn't know how many elements are in that list? \n",
    "\n",
    " - Luckily, there is an easy way to do this in Python $\\longrightarrow$ the final element has an index equal to <code>-1</code>\n",
    " \n",
    " \n",
    " - Let's look at an example:"
   ]
  },
  {
   "cell_type": "code",
   "execution_count": 15,
   "id": "b3f26603",
   "metadata": {},
   "outputs": [
    {
     "name": "stdout",
     "output_type": "stream",
     "text": [
      "crocodile\n"
     ]
    }
   ],
   "source": [
    "final_element = my_list[-1]\n",
    "\n",
    "print(final_element)"
   ]
  },
  {
   "cell_type": "markdown",
   "id": "1b45189b",
   "metadata": {},
   "source": [
    "<img src=\"https://raw.githubusercontent.com/peterbreslin/learn_python/main/images/octopus.png\" style=\"width: 300px;margin-left: 60px\" align=\"right\"/>\n",
    "\n",
    "### Oh wow! \n",
    "\n",
    "An octopus just entered the room. We need to add him to our list so that we keep a correct record of the animals! \n",
    "\n",
    "But, how do we add a new item to our list? \n",
    "- This can be easily achieved using the <code><font color='red'>**.append()**</font></code> method. \n",
    "\n",
    "\n",
    "- To 'append' something to a list just means to add something to the end of that list! \n",
    "\n",
    "\n",
    "- Let's look at how this works below:"
   ]
  },
  {
   "cell_type": "code",
   "execution_count": 24,
   "id": "9b83e0fa",
   "metadata": {},
   "outputs": [
    {
     "name": "stdout",
     "output_type": "stream",
     "text": [
      "['lion', 'monkey', 'giraffe', 'elephant', 'crocodile', 'octopus', 'octopus']\n"
     ]
    }
   ],
   "source": [
    "my_list.append('octopus')\n",
    "\n",
    "print(my_list)"
   ]
  },
  {
   "cell_type": "markdown",
   "id": "e50515b8",
   "metadata": {},
   "source": [
    "### Wait! \n",
    "\n",
    "The monkey got scared of the octopus and left the room. Let's remove the mokey from our list.\n",
    "\n",
    "How do we remove an item from our list? \n",
    "- This can be easily achieved using the <code><font color='red'>**.remove()**</font></code> method. \n",
    "\n",
    "\n",
    "- This is done similarly to the append method.\n",
    "\n",
    "\n",
    "- Let's look at how this works below:"
   ]
  },
  {
   "cell_type": "code",
   "execution_count": 28,
   "id": "111057ec",
   "metadata": {},
   "outputs": [
    {
     "name": "stdout",
     "output_type": "stream",
     "text": [
      "['lion', 'giraffe', 'elephant', 'crocodile', 'octopus']\n"
     ]
    }
   ],
   "source": [
    "my_list.remove('monkey')\n",
    "\n",
    "print(my_list)"
   ]
  },
  {
   "cell_type": "markdown",
   "id": "3072b5c6",
   "metadata": {},
   "source": [
    "### Great! \n",
    "\n",
    "- You might be asking $\\longrightarrow$ what about the indices? \n",
    "\n",
    "\n",
    "- That's okay! All the indices get updated to correctly match their corresponding element. \n",
    "\n",
    "\n",
    "- What if we select an index that is not within our list?"
   ]
  },
  {
   "cell_type": "code",
   "execution_count": 40,
   "id": "e3d8d65d",
   "metadata": {},
   "outputs": [
    {
     "ename": "IndexError",
     "evalue": "list index out of range",
     "output_type": "error",
     "traceback": [
      "\u001b[1;31m---------------------------------------------------------------------------\u001b[0m",
      "\u001b[1;31mIndexError\u001b[0m                                Traceback (most recent call last)",
      "\u001b[1;32m<ipython-input-40-3a84dbdf3c61>\u001b[0m in \u001b[0;36m<module>\u001b[1;34m\u001b[0m\n\u001b[1;32m----> 1\u001b[1;33m \u001b[0mout_of_bounds_index\u001b[0m \u001b[1;33m=\u001b[0m \u001b[0mmy_list\u001b[0m\u001b[1;33m[\u001b[0m\u001b[1;36m100\u001b[0m\u001b[1;33m]\u001b[0m\u001b[1;33m\u001b[0m\u001b[1;33m\u001b[0m\u001b[0m\n\u001b[0m",
      "\u001b[1;31mIndexError\u001b[0m: list index out of range"
     ]
    }
   ],
   "source": [
    "out_of_bounds_index = my_list[100]"
   ]
  },
  {
   "cell_type": "markdown",
   "id": "51a8b2b1",
   "metadata": {},
   "source": [
    "### Argh!\n",
    "\n",
    "Our script outputted an error because we asked it to select an element located at the 100th index $\\longrightarrow$ this index is **out of bounds**! \n",
    "\n",
    "\n",
    "- Our list only contains 5 elements. We can check how many elements are in a list by using the <code>len()</code> function. This outputs the length of the list. \n",
    "\n",
    "\n",
    "- The length of a list corresponds to the number of elements it contains. Let's check out the example below:"
   ]
  },
  {
   "cell_type": "code",
   "execution_count": 41,
   "id": "bc6f7a3e",
   "metadata": {},
   "outputs": [
    {
     "name": "stdout",
     "output_type": "stream",
     "text": [
      "5\n"
     ]
    }
   ],
   "source": [
    "length_of_list = len(my_list)\n",
    "\n",
    "print(length_of_list)"
   ]
  },
  {
   "cell_type": "markdown",
   "id": "2b67832c",
   "metadata": {},
   "source": [
    "## Wrap up!"
   ]
  },
  {
   "cell_type": "markdown",
   "id": "147abf02",
   "metadata": {},
   "source": [
    "### Bonus: <font color='blue'>data types</font>\n",
    "\n",
    "You will re-visit data types many times throughout your journey through Python. Let's take a quick look at what it means!\n",
    "\n",
    "A <font color='red'>**data type**</font> is an attribute associated with a piece of data that tells a computer how to interpret its value. By putting <code>Hello world</code> in punctuation marks, we told the computer that this piece of data is a **string**. \n",
    "\n",
    "There are many different data types, let's look at some of the most important:\n",
    "\n",
    "- <font color='red'>**string**</font> $\\longrightarrow$ this data type is used to define **text**.\n",
    "\n",
    "\n",
    "- <font color='red'>**int**</font> $\\longrightarrow$ this defines an **integer** data type (this refers to a whole number).\n",
    "\n",
    "\n",
    "- <font color='red'>**float**</font> $\\longrightarrow$ a *floating point* data type defines **non-integer** numbers.\n",
    "\n",
    "The <code>type()</code> function allows us to check what type of data type a variable is. Let's define 3 variables and check their data type in the code below:"
   ]
  },
  {
   "cell_type": "code",
   "execution_count": 39,
   "id": "aec36102",
   "metadata": {},
   "outputs": [
    {
     "data": {
      "text/plain": [
       "str"
      ]
     },
     "execution_count": 39,
     "metadata": {},
     "output_type": "execute_result"
    }
   ],
   "source": [
    "x = 'string'\n",
    "type(x)"
   ]
  },
  {
   "cell_type": "code",
   "execution_count": 38,
   "id": "137dac88",
   "metadata": {},
   "outputs": [
    {
     "data": {
      "text/plain": [
       "int"
      ]
     },
     "execution_count": 38,
     "metadata": {},
     "output_type": "execute_result"
    }
   ],
   "source": [
    "y = 5\n",
    "type(y)"
   ]
  },
  {
   "cell_type": "code",
   "execution_count": 37,
   "id": "10ee084f",
   "metadata": {},
   "outputs": [
    {
     "data": {
      "text/plain": [
       "float"
      ]
     },
     "execution_count": 37,
     "metadata": {},
     "output_type": "execute_result"
    }
   ],
   "source": [
    "z = 1.5\n",
    "type(z)"
   ]
  }
 ],
 "metadata": {
  "kernelspec": {
   "display_name": "Python 3 (ipykernel)",
   "language": "python",
   "name": "python3"
  },
  "language_info": {
   "codemirror_mode": {
    "name": "ipython",
    "version": 3
   },
   "file_extension": ".py",
   "mimetype": "text/x-python",
   "name": "python",
   "nbconvert_exporter": "python",
   "pygments_lexer": "ipython3",
   "version": "3.8.10"
  }
 },
 "nbformat": 4,
 "nbformat_minor": 5
}
